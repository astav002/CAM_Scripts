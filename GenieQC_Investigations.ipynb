{
 "cells": [
  {
   "cell_type": "code",
   "execution_count": 1,
   "metadata": {},
   "outputs": [],
   "source": [
    "import numpy as np\n",
    "import matplotlib.pyplot as plt\n",
    "import pandas as pd"
   ]
  },
  {
   "cell_type": "code",
   "execution_count": 2,
   "metadata": {},
   "outputs": [],
   "source": [
    "import os\n",
    "import sys\n",
    "import datetime"
   ]
  },
  {
   "cell_type": "code",
   "execution_count": 3,
   "metadata": {},
   "outputs": [],
   "source": [
    "path = os.path.join(\"C:\\\\\", \"GENIE2K\", \"QAFILES\")"
   ]
  },
  {
   "cell_type": "code",
   "execution_count": 4,
   "metadata": {},
   "outputs": [],
   "source": []
  },
  {
   "cell_type": "code",
   "execution_count": 26,
   "metadata": {},
   "outputs": [],
   "source": []
  },
  {
   "cell_type": "code",
   "execution_count": 186,
   "metadata": {},
   "outputs": [],
   "source": [
    "def get_data(file ):\n",
    "    \n",
    "    cryo_df = pd.read_csv(os.path.join(path, file))\n",
    "    cryo_df[\"Date/Time\"] = pd.to_datetime(cryo_df[\"Date/Time\"])\n",
    "    cryo_df.keys()\n",
    "    return cryo_df\n",
    "\n",
    "def get_limit_data(cryo_df, start_date, end_date):\n",
    "    meas_df = cryo_df.loc[(cryo_df[\"Date/Time\"]>start_date) & (cryo_df[\"Date/Time\"]<=end_date), cryo_df.keys()]\n",
    "    return meas_df\n",
    "\n",
    "def plot_measr_limiting(inv_key, meas_df, cryo_df, rej_lim=0.5, use_rej=True, plt_base=\"cryo\"):\n",
    "    \n",
    "    #cryo_df.plot(x=\"Date/Time\", y=' Decay corr. act- 59.5keV')\n",
    "    key_mn = meas_df[inv_key].mean()\n",
    "    key_std = meas_df[inv_key].std()\n",
    "    key_std / key_mn\n",
    "    key_std = 0.01 * key_mn\n",
    "    key_std / key_mn\n",
    "    plt_bound = (key_mn * (1-.25), key_mn * (1+.25))    \n",
    "\n",
    "    \n",
    "    if (use_rej):\n",
    "        l_bound = key_mn * (1-rej_lim)\n",
    "        u_bound = key_mn * (1+rej_lim)\n",
    "        meas_df = meas_df.loc[(meas_df[inv_key] > l_bound) & (meas_df[inv_key]<=u_bound), meas_df.keys()]    \n",
    "    \n",
    "\n",
    "    fig, ax = plt.subplots(figsize=(20,10))\n",
    "\n",
    "    cryo_df.plot(x=\"Date/Time\", y=inv_key, linestyle=\"none\", marker='x', ax=ax)\n",
    "    ax.plot(cryo_df[\"Date/Time\"], key_mn * np.ones(len(cryo_df)), label=\"Early Mean\")\n",
    "\n",
    "\n",
    "\n",
    "    ax.fill_between(cryo_df[\"Date/Time\"].values, \n",
    "                     key_mn * np.ones(len(cryo_df))+3*key_std * np.ones(len(cryo_df)),\n",
    "                     key_mn * np.ones(len(cryo_df))-3*key_std * np.ones(len(cryo_df)),\n",
    "                     interpolate=True,\n",
    "                     alpha=0.5\n",
    "                    )\n",
    "    ax.fill_between(cryo_df[\"Date/Time\"].values, \n",
    "                     key_mn * np.ones(len(cryo_df))+2*key_std * np.ones(len(cryo_df)),\n",
    "                     key_mn * np.ones(len(cryo_df))-2*key_std * np.ones(len(cryo_df)),\n",
    "                     interpolate=True,\n",
    "                     alpha=0.5\n",
    "                    )\n",
    "    cryo_df[(cryo_df[inv_key] >= (3*key_std + key_mn)) | (cryo_df[inv_key] <= (key_mn - 3*key_std))].plot(\n",
    "        x=\"Date/Time\", y= inv_key, marker='o', linestyle='--', color='red', ax=ax, alpha=0.5,label=\">=3 $\\sigma$\")\n",
    "    ax.plot()\n",
    "    ax.set_ylim(plt_bound)\n",
    "    ax.legend()\n",
    "    ax.set_title(start + \" - \" + end + \"\\n\" +file + \" - Limited on Measurement Period\\n\" + inv_key +\n",
    "                 \"\\n 1$\\sigma$= \"+ str(key_std / key_mn) + \n",
    "                 \", mean = {:2.4e}\".format(key_mn), fontsize=20)\n",
    "    title = plt_base + \"measr_limited\" + inv_key + \".png\"\n",
    "    plt.tight_layout()\n",
    "    plt.savefig(title)\n",
    "    return cryo_df.loc[(cryo_df[inv_key] >= (3*key_std + key_mn)) | (cryo_df[inv_key] <= (key_mn - 3*key_std))]\n",
    "\n",
    "def plot_full_limiting(inv_key, cryo_df, rej_lim=0.5, use_rej=True, plt_base=\"cryo\", save_plt=False):\n",
    "    \n",
    "    key_mn = cryo_df[inv_key].mean()\n",
    "    key_std = cryo_df[inv_key].std()\n",
    "    key_std / key_mn\n",
    "    key_std = 0.01 * key_mn\n",
    "    key_std / key_mn\n",
    "    plt_bound = (key_mn * (1-.25), key_mn * (1+.25))\n",
    "    fig, ax = plt.subplots(figsize=(20,10))    \n",
    "    \n",
    "    if (use_rej):\n",
    "        l_bound = key_mn * (1-rej_lim)\n",
    "        u_bound = key_mn * (1+rej_lim)\n",
    "        cryo_df = cryo_df.loc[(cryo_df[inv_key] > l_bound) & (cryo_df[inv_key]<=u_bound), cryo_df.keys()]\n",
    "    \n",
    "    \n",
    "\n",
    "\n",
    "    cryo_df.plot(x=\"Date/Time\", y=inv_key, linestyle=\"none\", marker='x', ax=ax)\n",
    "    ax.plot(cryo_df[\"Date/Time\"], key_mn * np.ones(len(cryo_df)), label=\"Early Mean\")\n",
    "\n",
    "\n",
    "\n",
    "    ax.fill_between(cryo_df[\"Date/Time\"].values, \n",
    "                     key_mn * np.ones(len(cryo_df))+3*key_std * np.ones(len(cryo_df)),\n",
    "                     key_mn * np.ones(len(cryo_df))-3*key_std * np.ones(len(cryo_df)),\n",
    "                     interpolate=True,\n",
    "                     alpha=0.5\n",
    "                    )\n",
    "    ax.fill_between(cryo_df[\"Date/Time\"].values, \n",
    "                     key_mn * np.ones(len(cryo_df))+2*key_std * np.ones(len(cryo_df)),\n",
    "                     key_mn * np.ones(len(cryo_df))-2*key_std * np.ones(len(cryo_df)),\n",
    "                     interpolate=True,\n",
    "                     alpha=0.5\n",
    "                    )\n",
    "    cryo_df[(cryo_df[inv_key] >= (3*key_std + key_mn)) | (cryo_df[inv_key] <= (key_mn - 3*key_std))].plot(\n",
    "        x=\"Date/Time\", y= inv_key, marker='o', linestyle='--', color='red', ax=ax, alpha=0.5, label=\">=3 $\\sigma$\")\n",
    "    ax.plot()\n",
    "    ax.set_ylim(plt_bound)\n",
    "    ax.legend()\n",
    "    ax.set_title(str(cryo_df[\"Date/Time\"].iloc[0]) + \" - \" + str(cryo_df[\"Date/Time\"].iloc[-1]) + \"\\n\" +file + \" - Full Range\\n\" + inv_key +\n",
    "                 \"\\n 1$\\sigma$= \"+ str(key_std / key_mn) + \n",
    "                 \", mean = {:2.4e}\".format(key_mn), fontsize=20)\n",
    "    #cryo_df[\"rej_val\"] = inv_key\n",
    "    title = plt_base + \"full_limited\" + inv_key + \".png\"\n",
    "    plt.tight_layout()\n",
    "    if (save_plt):\n",
    "        plt.savefig(title)\n",
    "    else:\n",
    "        plt.show()\n",
    "    return cryo_df.loc[(cryo_df[inv_key] >= (3*key_std + key_mn)) | (cryo_df[inv_key] <= (key_mn - 3*key_std))]"
   ]
  },
  {
   "cell_type": "code",
   "execution_count": 190,
   "metadata": {},
   "outputs": [],
   "source": [
    "start = \"10/06/2021 12:00:00 AM\"\n",
    "end = \"11/22/2021 12:00:00 PM\"\n",
    "\n",
    "# start = \"10/06/2021 12:00:00 AM\"\n",
    "# end = \"11/19/2021 12:00:00 PM\"\n",
    "start_date = datetime.datetime.strptime(start, \"%m/%d/%Y %I:%M:%S %p\")\n",
    "end_date = datetime.datetime.strptime(end, \"%m/%d/%Y %I:%M:%S %p\")\n",
    "\n",
    "inv_keys = [' Decay corr. act- 59.5keV',\n",
    "       ' Decay corr. act- 662keV', ' Decay corr. act- 1333keV']\n",
    "\n",
    "fle = [\"2021CryoccCup_LIQC.qaf.csv\", \"2021RegeccCup_LIQC.qaf.csv\"]\n",
    "plt_bases = [\"Cryo_\", \"Rege_\"]"
   ]
  },
  {
   "cell_type": "code",
   "execution_count": 193,
   "metadata": {},
   "outputs": [],
   "source": [
    "use_idx = 0\n",
    "\n",
    "file = fle[use_idx]\n",
    "raw_data = get_data(file)\n",
    "mesr_data = get_limit_data(raw_data, start_date, end_date)\n",
    "\n"
   ]
  },
  {
   "cell_type": "code",
   "execution_count": 196,
   "metadata": {},
   "outputs": [
    {
     "ename": "TypeError",
     "evalue": "plot_measr_limiting() got an unexpected keyword argument 'save_plot'",
     "output_type": "error",
     "traceback": [
      "\u001b[1;31m---------------------------------------------------------------------------\u001b[0m",
      "\u001b[1;31mTypeError\u001b[0m                                 Traceback (most recent call last)",
      "\u001b[1;32m<ipython-input-196-b423fb0121de>\u001b[0m in \u001b[0;36m<module>\u001b[1;34m()\u001b[0m\n\u001b[0;32m      3\u001b[0m \u001b[0mmeasr_full\u001b[0m \u001b[1;33m=\u001b[0m \u001b[0mpd\u001b[0m\u001b[1;33m.\u001b[0m\u001b[0mDataFrame\u001b[0m\u001b[1;33m(\u001b[0m\u001b[0mcolumns\u001b[0m\u001b[1;33m=\u001b[0m\u001b[0mmesr_data\u001b[0m\u001b[1;33m.\u001b[0m\u001b[0mkeys\u001b[0m\u001b[1;33m(\u001b[0m\u001b[1;33m)\u001b[0m\u001b[1;33m)\u001b[0m\u001b[1;33m\u001b[0m\u001b[0m\n\u001b[0;32m      4\u001b[0m \u001b[1;32mfor\u001b[0m \u001b[0minv_key\u001b[0m \u001b[1;32min\u001b[0m \u001b[0minv_keys\u001b[0m\u001b[1;33m:\u001b[0m\u001b[1;33m\u001b[0m\u001b[0m\n\u001b[1;32m----> 5\u001b[1;33m     \u001b[0mdate_measr\u001b[0m \u001b[1;33m=\u001b[0m \u001b[0mplot_measr_limiting\u001b[0m\u001b[1;33m(\u001b[0m\u001b[0minv_key\u001b[0m\u001b[1;33m,\u001b[0m \u001b[0mmesr_data\u001b[0m\u001b[1;33m,\u001b[0m \u001b[0mraw_data\u001b[0m\u001b[1;33m,\u001b[0m \u001b[0mrej_lim\u001b[0m\u001b[1;33m=\u001b[0m\u001b[1;36m.1\u001b[0m\u001b[1;33m,\u001b[0m \u001b[0muse_rej\u001b[0m\u001b[1;33m=\u001b[0m\u001b[1;32mTrue\u001b[0m\u001b[1;33m,\u001b[0m \u001b[0mplt_base\u001b[0m\u001b[1;33m=\u001b[0m\u001b[0mplt_bases\u001b[0m\u001b[1;33m[\u001b[0m\u001b[0muse_idx\u001b[0m\u001b[1;33m]\u001b[0m\u001b[1;33m,\u001b[0m \u001b[0msave_plot\u001b[0m\u001b[1;33m=\u001b[0m\u001b[1;32mTrue\u001b[0m\u001b[1;33m)\u001b[0m\u001b[1;33m\u001b[0m\u001b[0m\n\u001b[0m\u001b[0;32m      6\u001b[0m     \u001b[0mmeasr_full\u001b[0m \u001b[1;33m=\u001b[0m \u001b[0mmeasr_full\u001b[0m\u001b[1;33m.\u001b[0m\u001b[0mappend\u001b[0m\u001b[1;33m(\u001b[0m\u001b[0mplot_full_limiting\u001b[0m\u001b[1;33m(\u001b[0m\u001b[0minv_key\u001b[0m\u001b[1;33m,\u001b[0m \u001b[0mraw_data\u001b[0m\u001b[1;33m,\u001b[0m \u001b[0mrej_lim\u001b[0m\u001b[1;33m=\u001b[0m\u001b[1;36m1\u001b[0m\u001b[1;33m,\u001b[0m \u001b[0muse_rej\u001b[0m\u001b[1;33m=\u001b[0m\u001b[1;32mTrue\u001b[0m\u001b[1;33m,\u001b[0m \u001b[0mplt_base\u001b[0m\u001b[1;33m=\u001b[0m\u001b[0mplt_bases\u001b[0m\u001b[1;33m[\u001b[0m\u001b[0muse_idx\u001b[0m\u001b[1;33m]\u001b[0m\u001b[1;33m)\u001b[0m\u001b[1;33m)\u001b[0m\u001b[1;33m\u001b[0m\u001b[0m\n\u001b[0;32m      7\u001b[0m \u001b[1;33m\u001b[0m\u001b[0m\n",
      "\u001b[1;31mTypeError\u001b[0m: plot_measr_limiting() got an unexpected keyword argument 'save_plot'"
     ]
    }
   ],
   "source": [
    "date_measr = []\n",
    "dates_full = []\n",
    "measr_full = pd.DataFrame(columns=mesr_data.keys())\n",
    "for inv_key in inv_keys:\n",
    "    date_measr = plot_measr_limiting(inv_key, mesr_data, raw_data, rej_lim=.1, use_rej=True, plt_base=plt_bases[use_idx])\n",
    "    measr_full = measr_full.append(plot_full_limiting(inv_key, raw_data, rej_lim=1, use_rej=True, plt_base=plt_bases[use_idx]))\n",
    " "
   ]
  },
  {
   "cell_type": "code",
   "execution_count": 177,
   "metadata": {},
   "outputs": [],
   "source": [
    "measr_full.sort_values(\"Date/Time\").groupby(\"Date/Time\").mean().to_csv(plt_bases[use_idx]+\"bad_points.csv\")"
   ]
  },
  {
   "cell_type": "code",
   "execution_count": 171,
   "metadata": {},
   "outputs": [],
   "source": []
  },
  {
   "cell_type": "code",
   "execution_count": null,
   "metadata": {},
   "outputs": [],
   "source": [
    "((cryo_df[inv_key] / cryo_df[inv_key].mean() - 1) * 100).hist(bins=50)"
   ]
  },
  {
   "cell_type": "code",
   "execution_count": 197,
   "metadata": {},
   "outputs": [],
   "source": [
    "cert = [{\"Isotope\":\"Am-241\", \"Energy\":59.5, \"Activity_Bq\":3.632e3, \"Unc_Pct_k2\":3.6},\n",
    "{\"Isotope\":\"Cs-137\", \"Energy\":662, \"Activity_Bq\":1.318e3, \"Unc_Pct_k2\":4.2},\n",
    "{\"Isotope\":\"Co-60\", \"Energy\":1332, \"Activity_Bq\":2.162e3, \"Unc_Pct_k2\":3.9}]"
   ]
  },
  {
   "cell_type": "code",
   "execution_count": 199,
   "metadata": {},
   "outputs": [],
   "source": [
    "df = pd.DataFrame(cert)"
   ]
  },
  {
   "cell_type": "code",
   "execution_count": 203,
   "metadata": {},
   "outputs": [],
   "source": [
    "df[\"Act_uCi\"] = df[\"Activity_Bq\"] / 3.7e4\n",
    "df[\"Act_uCi_low\"] = df.apply(lambda x: x[\"Act_uCi\"] *(1 - x[\"Unc_Pct_k2\"]/100), axis=1)\n",
    "df[\"Act_uCi_high\"] = df.apply(lambda x: x[\"Act_uCi\"] *(1 + x[\"Unc_Pct_k2\"]/100), axis=1)"
   ]
  },
  {
   "cell_type": "code",
   "execution_count": 204,
   "metadata": {},
   "outputs": [
    {
     "data": {
      "text/html": [
       "<div>\n",
       "<style scoped>\n",
       "    .dataframe tbody tr th:only-of-type {\n",
       "        vertical-align: middle;\n",
       "    }\n",
       "\n",
       "    .dataframe tbody tr th {\n",
       "        vertical-align: top;\n",
       "    }\n",
       "\n",
       "    .dataframe thead th {\n",
       "        text-align: right;\n",
       "    }\n",
       "</style>\n",
       "<table border=\"1\" class=\"dataframe\">\n",
       "  <thead>\n",
       "    <tr style=\"text-align: right;\">\n",
       "      <th></th>\n",
       "      <th>Activity_Bq</th>\n",
       "      <th>Energy</th>\n",
       "      <th>Isotope</th>\n",
       "      <th>Unc_Pct_k2</th>\n",
       "      <th>Act_uCi</th>\n",
       "      <th>Act_uCi_low</th>\n",
       "      <th>Act_uCi_high</th>\n",
       "    </tr>\n",
       "  </thead>\n",
       "  <tbody>\n",
       "    <tr>\n",
       "      <th>0</th>\n",
       "      <td>3632.0</td>\n",
       "      <td>59.5</td>\n",
       "      <td>Am-241</td>\n",
       "      <td>3.6</td>\n",
       "      <td>0.098162</td>\n",
       "      <td>0.094628</td>\n",
       "      <td>0.101696</td>\n",
       "    </tr>\n",
       "    <tr>\n",
       "      <th>1</th>\n",
       "      <td>1318.0</td>\n",
       "      <td>662.0</td>\n",
       "      <td>Cs-137</td>\n",
       "      <td>4.2</td>\n",
       "      <td>0.035622</td>\n",
       "      <td>0.034126</td>\n",
       "      <td>0.037118</td>\n",
       "    </tr>\n",
       "    <tr>\n",
       "      <th>2</th>\n",
       "      <td>2162.0</td>\n",
       "      <td>1332.0</td>\n",
       "      <td>Co-60</td>\n",
       "      <td>3.9</td>\n",
       "      <td>0.058432</td>\n",
       "      <td>0.056154</td>\n",
       "      <td>0.060711</td>\n",
       "    </tr>\n",
       "  </tbody>\n",
       "</table>\n",
       "</div>"
      ],
      "text/plain": [
       "   Activity_Bq  Energy Isotope  Unc_Pct_k2   Act_uCi  Act_uCi_low  \\\n",
       "0       3632.0    59.5  Am-241         3.6  0.098162     0.094628   \n",
       "1       1318.0   662.0  Cs-137         4.2  0.035622     0.034126   \n",
       "2       2162.0  1332.0   Co-60         3.9  0.058432     0.056154   \n",
       "\n",
       "   Act_uCi_high  \n",
       "0      0.101696  \n",
       "1      0.037118  \n",
       "2      0.060711  "
      ]
     },
     "execution_count": 204,
     "metadata": {},
     "output_type": "execute_result"
    }
   ],
   "source": [
    "df"
   ]
  },
  {
   "cell_type": "code",
   "execution_count": 211,
   "metadata": {},
   "outputs": [
    {
     "data": {
      "text/html": [
       "<div>\n",
       "<style scoped>\n",
       "    .dataframe tbody tr th:only-of-type {\n",
       "        vertical-align: middle;\n",
       "    }\n",
       "\n",
       "    .dataframe tbody tr th {\n",
       "        vertical-align: top;\n",
       "    }\n",
       "\n",
       "    .dataframe thead th {\n",
       "        text-align: right;\n",
       "    }\n",
       "</style>\n",
       "<table border=\"1\" class=\"dataframe\">\n",
       "  <thead>\n",
       "    <tr style=\"text-align: right;\">\n",
       "      <th></th>\n",
       "      <th>Activity_uCi</th>\n",
       "      <th>Energy</th>\n",
       "      <th>Isotope</th>\n",
       "      <th>Unc_Pct_k2</th>\n",
       "    </tr>\n",
       "  </thead>\n",
       "  <tbody>\n",
       "    <tr>\n",
       "      <th>0</th>\n",
       "      <td>0.096325</td>\n",
       "      <td>59.5</td>\n",
       "      <td>Am-241</td>\n",
       "      <td>2</td>\n",
       "    </tr>\n",
       "    <tr>\n",
       "      <th>1</th>\n",
       "      <td>0.036226</td>\n",
       "      <td>662.0</td>\n",
       "      <td>Cs-137</td>\n",
       "      <td>2</td>\n",
       "    </tr>\n",
       "    <tr>\n",
       "      <th>2</th>\n",
       "      <td>0.058823</td>\n",
       "      <td>1332.0</td>\n",
       "      <td>Co-60</td>\n",
       "      <td>2</td>\n",
       "    </tr>\n",
       "  </tbody>\n",
       "</table>\n",
       "</div>"
      ],
      "text/plain": [
       "   Activity_uCi  Energy Isotope  Unc_Pct_k2\n",
       "0      0.096325    59.5  Am-241           2\n",
       "1      0.036226   662.0  Cs-137           2\n",
       "2      0.058823  1332.0   Co-60           2"
      ]
     },
     "execution_count": 211,
     "metadata": {},
     "output_type": "execute_result"
    }
   ],
   "source": [
    "cryo_set = pd.DataFrame([{\"Isotope\":\"Am-241\", \"Energy\":59.5, \"Activity_uCi\":9.6325e-2, \"Unc_Pct_k2\":2},\n",
    "{\"Isotope\":\"Cs-137\", \"Energy\":662, \"Activity_uCi\":3.6226e-2, \"Unc_Pct_k2\":2},\n",
    "{\"Isotope\":\"Co-60\", \"Energy\":1332, \"Activity_uCi\":5.8823e-2, \"Unc_Pct_k2\":2}])\n"
   ]
  },
  {
   "cell_type": "code",
   "execution_count": 212,
   "metadata": {},
   "outputs": [],
   "source": [
    "cryo_set[\"Ratio_to_True\"] = cryo_set[\"Activity_uCi\"] / df[\"Act_uCi\"]"
   ]
  },
  {
   "cell_type": "code",
   "execution_count": 213,
   "metadata": {},
   "outputs": [
    {
     "data": {
      "text/html": [
       "<div>\n",
       "<style scoped>\n",
       "    .dataframe tbody tr th:only-of-type {\n",
       "        vertical-align: middle;\n",
       "    }\n",
       "\n",
       "    .dataframe tbody tr th {\n",
       "        vertical-align: top;\n",
       "    }\n",
       "\n",
       "    .dataframe thead th {\n",
       "        text-align: right;\n",
       "    }\n",
       "</style>\n",
       "<table border=\"1\" class=\"dataframe\">\n",
       "  <thead>\n",
       "    <tr style=\"text-align: right;\">\n",
       "      <th></th>\n",
       "      <th>Activity_uCi</th>\n",
       "      <th>Energy</th>\n",
       "      <th>Isotope</th>\n",
       "      <th>Unc_Pct_k2</th>\n",
       "      <th>Ratio_to_True</th>\n",
       "    </tr>\n",
       "  </thead>\n",
       "  <tbody>\n",
       "    <tr>\n",
       "      <th>0</th>\n",
       "      <td>0.096325</td>\n",
       "      <td>59.5</td>\n",
       "      <td>Am-241</td>\n",
       "      <td>2</td>\n",
       "      <td>0.981284</td>\n",
       "    </tr>\n",
       "    <tr>\n",
       "      <th>1</th>\n",
       "      <td>0.036226</td>\n",
       "      <td>662.0</td>\n",
       "      <td>Cs-137</td>\n",
       "      <td>2</td>\n",
       "      <td>1.016967</td>\n",
       "    </tr>\n",
       "    <tr>\n",
       "      <th>2</th>\n",
       "      <td>0.058823</td>\n",
       "      <td>1332.0</td>\n",
       "      <td>Co-60</td>\n",
       "      <td>2</td>\n",
       "      <td>1.006684</td>\n",
       "    </tr>\n",
       "  </tbody>\n",
       "</table>\n",
       "</div>"
      ],
      "text/plain": [
       "   Activity_uCi  Energy Isotope  Unc_Pct_k2  Ratio_to_True\n",
       "0      0.096325    59.5  Am-241           2       0.981284\n",
       "1      0.036226   662.0  Cs-137           2       1.016967\n",
       "2      0.058823  1332.0   Co-60           2       1.006684"
      ]
     },
     "execution_count": 213,
     "metadata": {},
     "output_type": "execute_result"
    }
   ],
   "source": [
    "cryo_set"
   ]
  },
  {
   "cell_type": "code",
   "execution_count": 214,
   "metadata": {},
   "outputs": [
    {
     "data": {
      "text/html": [
       "<div>\n",
       "<style scoped>\n",
       "    .dataframe tbody tr th:only-of-type {\n",
       "        vertical-align: middle;\n",
       "    }\n",
       "\n",
       "    .dataframe tbody tr th {\n",
       "        vertical-align: top;\n",
       "    }\n",
       "\n",
       "    .dataframe thead th {\n",
       "        text-align: right;\n",
       "    }\n",
       "</style>\n",
       "<table border=\"1\" class=\"dataframe\">\n",
       "  <thead>\n",
       "    <tr style=\"text-align: right;\">\n",
       "      <th></th>\n",
       "      <th>Activity_uCi</th>\n",
       "      <th>Energy</th>\n",
       "      <th>Isotope</th>\n",
       "      <th>Unc_Pct_k2</th>\n",
       "      <th>Ratio_to_True</th>\n",
       "    </tr>\n",
       "  </thead>\n",
       "  <tbody>\n",
       "    <tr>\n",
       "      <th>0</th>\n",
       "      <td>0.095561</td>\n",
       "      <td>59.5</td>\n",
       "      <td>Am-241</td>\n",
       "      <td>2</td>\n",
       "      <td>0.973501</td>\n",
       "    </tr>\n",
       "    <tr>\n",
       "      <th>1</th>\n",
       "      <td>0.037583</td>\n",
       "      <td>662.0</td>\n",
       "      <td>Cs-137</td>\n",
       "      <td>2</td>\n",
       "      <td>1.055061</td>\n",
       "    </tr>\n",
       "    <tr>\n",
       "      <th>2</th>\n",
       "      <td>0.063483</td>\n",
       "      <td>1332.0</td>\n",
       "      <td>Co-60</td>\n",
       "      <td>2</td>\n",
       "      <td>1.086434</td>\n",
       "    </tr>\n",
       "  </tbody>\n",
       "</table>\n",
       "</div>"
      ],
      "text/plain": [
       "   Activity_uCi  Energy Isotope  Unc_Pct_k2  Ratio_to_True\n",
       "0      0.095561    59.5  Am-241           2       0.973501\n",
       "1      0.037583   662.0  Cs-137           2       1.055061\n",
       "2      0.063483  1332.0   Co-60           2       1.086434"
      ]
     },
     "execution_count": 214,
     "metadata": {},
     "output_type": "execute_result"
    }
   ],
   "source": [
    "rege_set = pd.DataFrame([{\"Isotope\":\"Am-241\", \"Energy\":59.5, \"Activity_uCi\":9.5561e-2, \"Unc_Pct_k2\":2},\n",
    "{\"Isotope\":\"Cs-137\", \"Energy\":662, \"Activity_uCi\":3.7583e-2, \"Unc_Pct_k2\":2},\n",
    "{\"Isotope\":\"Co-60\", \"Energy\":1332, \"Activity_uCi\":6.3483e-2, \"Unc_Pct_k2\":2}])\n",
    "\n",
    "rege_set[\"Ratio_to_True\"] = rege_set[\"Activity_uCi\"] / df[\"Act_uCi\"]\n",
    "rege_set"
   ]
  },
  {
   "cell_type": "code",
   "execution_count": 215,
   "metadata": {},
   "outputs": [
    {
     "data": {
      "text/html": [
       "<div>\n",
       "<style scoped>\n",
       "    .dataframe tbody tr th:only-of-type {\n",
       "        vertical-align: middle;\n",
       "    }\n",
       "\n",
       "    .dataframe tbody tr th {\n",
       "        vertical-align: top;\n",
       "    }\n",
       "\n",
       "    .dataframe thead th {\n",
       "        text-align: right;\n",
       "    }\n",
       "</style>\n",
       "<table border=\"1\" class=\"dataframe\">\n",
       "  <thead>\n",
       "    <tr style=\"text-align: right;\">\n",
       "      <th></th>\n",
       "      <th>Activity_uCi</th>\n",
       "      <th>Energy</th>\n",
       "      <th>Isotope</th>\n",
       "      <th>Unc_Pct_k2</th>\n",
       "      <th>Ratio_to_True</th>\n",
       "    </tr>\n",
       "  </thead>\n",
       "  <tbody>\n",
       "    <tr>\n",
       "      <th>0</th>\n",
       "      <td>0.094065</td>\n",
       "      <td>59.5</td>\n",
       "      <td>Am-241</td>\n",
       "      <td>2</td>\n",
       "      <td>0.958261</td>\n",
       "    </tr>\n",
       "    <tr>\n",
       "      <th>1</th>\n",
       "      <td>0.037166</td>\n",
       "      <td>662.0</td>\n",
       "      <td>Cs-137</td>\n",
       "      <td>2</td>\n",
       "      <td>1.043347</td>\n",
       "    </tr>\n",
       "    <tr>\n",
       "      <th>2</th>\n",
       "      <td>0.062658</td>\n",
       "      <td>1332.0</td>\n",
       "      <td>Co-60</td>\n",
       "      <td>2</td>\n",
       "      <td>1.072309</td>\n",
       "    </tr>\n",
       "  </tbody>\n",
       "</table>\n",
       "</div>"
      ],
      "text/plain": [
       "   Activity_uCi  Energy Isotope  Unc_Pct_k2  Ratio_to_True\n",
       "0      0.094065    59.5  Am-241           2       0.958261\n",
       "1      0.037166   662.0  Cs-137           2       1.043347\n",
       "2      0.062658  1332.0   Co-60           2       1.072309"
      ]
     },
     "execution_count": 215,
     "metadata": {},
     "output_type": "execute_result"
    }
   ],
   "source": [
    "rege_re_set = pd.DataFrame([{\"Isotope\":\"Am-241\", \"Energy\":59.5, \"Activity_uCi\":9.4065e-2, \"Unc_Pct_k2\":2},\n",
    "{\"Isotope\":\"Cs-137\", \"Energy\":662, \"Activity_uCi\":3.71657e-2, \"Unc_Pct_k2\":2},\n",
    "{\"Isotope\":\"Co-60\", \"Energy\":1332, \"Activity_uCi\":6.26576e-2, \"Unc_Pct_k2\":2}])\n",
    "\n",
    "rege_re_set[\"Ratio_to_True\"] = rege_re_set[\"Activity_uCi\"] / df[\"Act_uCi\"]\n",
    "rege_re_set"
   ]
  },
  {
   "cell_type": "code",
   "execution_count": null,
   "metadata": {},
   "outputs": [],
   "source": []
  }
 ],
 "metadata": {
  "kernelspec": {
   "display_name": "Python 3",
   "language": "python",
   "name": "python3"
  },
  "language_info": {
   "codemirror_mode": {
    "name": "ipython",
    "version": 3
   },
   "file_extension": ".py",
   "mimetype": "text/x-python",
   "name": "python",
   "nbconvert_exporter": "python",
   "pygments_lexer": "ipython3",
   "version": "3.6.6"
  }
 },
 "nbformat": 4,
 "nbformat_minor": 2
}
